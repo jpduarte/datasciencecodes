{
 "cells": [
  {
   "cell_type": "markdown",
   "metadata": {},
   "source": [
    "\n",
    "# K-means Clustering\n",
    "\n"
   ]
  },
  {
   "cell_type": "markdown",
   "metadata": {},
   "source": [
    "Import libraries:"
   ]
  },
  {
   "cell_type": "code",
   "execution_count": 1,
   "metadata": {
    "collapsed": false
   },
   "outputs": [],
   "source": [
    "%matplotlib inline\n",
    "import numpy as np\n",
    "import scipy.io\n",
    "import scipy.cluster\n",
    "import matplotlib.pyplot as plt\n",
    "from mpl_toolkits.mplot3d import Axes3D\n",
    "\n",
    "from sklearn.cluster import KMeans"
   ]
  },
  {
   "cell_type": "markdown",
   "metadata": {},
   "source": [
    "Functions"
   ]
  },
  {
   "cell_type": "code",
   "execution_count": 12,
   "metadata": {
    "collapsed": true
   },
   "outputs": [],
   "source": [
    "##########################################################################FUNCTIONS#########\n",
    "#plot cluster\n",
    "def plotcluster(data,labels,symbols,colors,sizemarker):\n",
    "  i=0\n",
    "\n",
    "  for point in data:\n",
    "    plt.plot( point[0],point[1], symbols[int(labels[i])],color=colors[int(labels[i])],markersize=sizemarker)\n",
    "    i=i+1\n",
    "    \n",
    "#function that return the label for each data, i.e. the cluster to which that data belongs\n",
    "def getlabels(data,centroids):\n",
    "  i=0\n",
    "  labels = np.zeros(len(data[:,0]))\n",
    "   \n",
    "  for point in data:\n",
    "    j=0\n",
    "    distancedatacentroid_max =10E10\n",
    "    for centroid in centroids:\n",
    "      distancedatacentroid = np.linalg.norm(point-centroid)\n",
    "      if (distancedatacentroid<distancedatacentroid_max):\n",
    "        distancedatacentroid_max = distancedatacentroid\n",
    "        label = j\n",
    "      j=j+1\n",
    "    labels[i]=int(label) \n",
    "    i=i+1\n",
    " \n",
    "  return labels\n",
    "  \n",
    "#function get the cluster of the label that is indicated, it sort the data\n",
    "def getcluster(data,labels,label):\n",
    "  newdata = []\n",
    "  i=0\n",
    "  for point in data:\n",
    "    if(labels[i]==label):\n",
    "      newdata.append(data[i,:])\n",
    "    i=i+1\n",
    "  return np.asarray(newdata)\n",
    "\n",
    "#obtain the SSE for each cluster\n",
    "def SSEclusters(data,centroids,labels):\n",
    "  i=0\n",
    "  SSEs= np.zeros(2) \n",
    "  i=0\n",
    "  for point in data:\n",
    "    SSEs[labels[i]] = SSEs[labels[i]] + np.linalg.norm(point-centroids[labels[i],:])\n",
    "    i=i+1\n",
    " \n",
    "  return SSEs\n",
    "\n",
    "#bisection kmean algorith\n",
    "def bisectkmeans(data,k):\n",
    "  \"\"\"-> start with two centroids\n",
    "  -> interate until we reach number of centroids wanted\"\"\"\n",
    " \n",
    "  bisection_k = 2\n",
    "  #kmeans\n",
    "  kmeans = KMeans(n_clusters=bisection_k, random_state=0).fit(data)\n",
    "  centroids = kmeans.cluster_centers_\n",
    "  labels = kmeans.labels_\n",
    "\n",
    "  #create centroids with same length as k\n",
    "  centroids_out = np.zeros((k,2))\n",
    "  centroids_out[0,:] = centroids[0,:]\n",
    "  centroids_out[1,:] = centroids[1,:]\n",
    "  \n",
    "  SSEs = SSEclusters(data,centroids,labels) \n",
    "\n",
    "  while (bisection_k<k):\n",
    "    #choose cluster with larger SSE\n",
    "    if(SSEs[0]>SSEs[1]):\n",
    "      data = getcluster(data,labels,0)\n",
    "      centroids_out[bisection_k-2,:] = centroids[1,:] #safe centroid that is not being used in next iteration\n",
    "    else:\n",
    "      data = getcluster(data,labels,0)\n",
    "      centroids_out[bisection_k-2,:] = centroids[0,:] #safe centroid that is not being used in next iteration\n",
    "    \n",
    "    #Kmeans algorith\n",
    "    kmeans = KMeans(n_clusters=bisection_k, random_state=0).fit(data)\n",
    "    centroids = kmeans.cluster_centers_\n",
    "    labels = kmeans.labels_\n",
    "\n",
    "    #calculate SSE for next iteration\n",
    "    SSEs = SSEclusters(data,centroids,labels) \n",
    "    bisection_k=bisection_k+1\n",
    "    #safe last centroids centroid that is not being used, this happen only at the very end of the while loop\n",
    "    if (bisection_k==k):\n",
    "      centroids_out[bisection_k-2,:] = centroids[0,:]\n",
    "      centroids_out[bisection_k-1,:] = centroids[1,:]\n",
    "\n",
    "  return centroids_out#,labels,inertia,SSEs  \n",
    "\n",
    "#####################################################################END FUNCTIONS############"
   ]
  },
  {
   "cell_type": "markdown",
   "metadata": {},
   "source": [
    "Code that runs:"
   ]
  },
  {
   "cell_type": "code",
   "execution_count": 14,
   "metadata": {
    "collapsed": false
   },
   "outputs": [
    {
     "name": "stdout",
     "output_type": "stream",
     "text": [
      "centroids:\n",
      "[[ 1.79275229  0.61995413]\n",
      " [ 1.00925373  0.67977612]\n",
      " [ 3.04261905  0.52452381]]\n"
     ]
    }
   ],
   "source": [
    "#start with the number of K means wanted\n",
    "k=3\n",
    "\n",
    "#import data\n",
    "pathandfile = './TwoDimensionalContinuousData.csv'\n",
    "target = open( pathandfile, 'r')\n",
    "datalist = np.loadtxt(pathandfile,skiprows = 1,delimiter=',')\n",
    "\n",
    "\n",
    "#bisection method\n",
    "centroids= bisectkmeans(datalist,k)\n",
    "\n",
    "print(\"centroids:\")\n",
    "print (centroids)\n",
    "\n",
    "#get labels for given clusters\n",
    "labels = getlabels(datalist,centroids)"
   ]
  },
  {
   "cell_type": "markdown",
   "metadata": {},
   "source": [
    "Plot functions:"
   ]
  },
  {
   "cell_type": "code",
   "execution_count": 15,
   "metadata": {
    "collapsed": false
   },
   "outputs": [
    {
     "data": {
      "text/plain": [
       "<matplotlib.text.Text at 0x7fe1453ecf28>"
      ]
     },
     "execution_count": 15,
     "metadata": {},
     "output_type": "execute_result"
    },
    {
     "data": {
      "image/png": "[encoded data removed]",
      "text/plain": [
       "<matplotlib.figure.Figure at 0x7fe168728860>"
      ]
     },
     "metadata": {},
     "output_type": "display_data"
    }
   ],
   "source": [
    "plt.figure(1)\n",
    "#plot clusters\n",
    "symbols = ['o','s','v']\n",
    "colors = ['k','b','r']\n",
    "markersize = 10\n",
    "plotcluster(datalist,labels,symbols,colors,markersize)\n",
    "\n",
    "#plot centroids\n",
    "plt.plot( centroids[:,0],centroids[:,1], 's',color='c',markersize=15)\n",
    "#labels\n",
    "ax = plt.gca()\n",
    "ax.set_xlabel(\"X\")\n",
    "ax.set_ylabel(\"Y\")"
   ]
  },
  {
   "cell_type": "code",
   "execution_count": null,
   "metadata": {
    "collapsed": true
   },
   "outputs": [],
   "source": []
  }
 ],
 "metadata": {
  "kernelspec": {
   "display_name": "Python 3",
   "language": "python",
   "name": "python3"
  },
  "language_info": {
   "codemirror_mode": {
    "name": "ipython",
    "version": 3
   },
   "file_extension": ".py",
   "mimetype": "text/x-python",
   "name": "python",
   "nbconvert_exporter": "python",
   "pygments_lexer": "ipython3",
   "version": "3.4.4"
  }
 },
 "nbformat": 4,
 "nbformat_minor": 0
}
